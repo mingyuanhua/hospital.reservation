{
 "cells": [
  {
   "cell_type": "code",
   "execution_count": null,
   "source": [
    "import ast\n",
    "import json\n",
    "import time\n",
    "import requests"
   ],
   "outputs": [],
   "metadata": {}
  },
  {
   "cell_type": "code",
   "execution_count": null,
   "source": [
    "url = \"https://h5.shqmxx.com/Resource.aspx?CustomerId=94&Pri=DD.TRySA5aiws1Qj8Xyp4O9KNU4So/2gU79RlHsMQK5nFG8ysh_vdXZRQtl9x6tQmC8iF4M0InaopTpQ1r5SxU/raIy2uNLMW8am3lecJjNR8ltYs3qpQBzoYz0VfBrrY5kqtuc6Nx5V_vUq5BUlBY31j4wQL5a70TKxHJ78znCrKAUYjFj2mu5pCxZI3UvxPJY&UiServiceId=gh_79eafca4e31a&UItype=wx&IsMenu=1&Version=1.1\"\n",
    "headers = {\n",
    "\"Host\": \"mp.mhealth100.com\",\n",
    "\"Connection\": \"close\",\n",
    "\"Accept\": \"application/json\",\n",
    "\"User-Agent\": \"Mozilla/5.0 (Linux; Android 6.0.1; MuMu Build/V417IR; wv) AppleWebKit/537.36 (KHTML, like Gecko) Version/4.0 Chrome/52.0.2743.100 Mobile Safari/537.36 MMWEBID/2023 MicroMessenger/7.0.17.1720(0x27001134) Process/tools WeChat/arm32 NetType/NON_NETWORK Language/zh_CN ABI/arm32\",\n",
    "\"Accept-Encoding\": \"gzip, deflate\",\n",
    "\"Accept-Language\": \"zh-CN,en-US;q=0.8\",\n",
    "\"Cookie\": \"wechat_openId=ajdfahdflkahdlkfhaklhdfkljhadf; providerId=wechat; wechat_access_token=kahjdkjfhalkdjhflajkhdflkahdklfhj-JzUhxxyVdU77pwzEM-jkadfhlkjdhfklahdsflkjahsdkjlfhalkjsdhflajhsdfkjah; token=IWeAxxxd5-gpzJyxxxYSKg; userId=xxxxxxxxxxxxxxxxx; Hm_lvt_4f5e6d65812072c49089f06245234523452345=1606104987; Hm_lpvt_4f5e6d65812072c49089f24523452345234=1606101234\",\n",
    "\"X-Requested-With\": \"com.tencent.mm\"\n",
    "}"
   ],
   "outputs": [],
   "metadata": {}
  },
  {
   "cell_type": "code",
   "execution_count": null,
   "source": [
    "def select_data():\n",
    "    data = requests.get(url=url, headers=headers)\n",
    "    resule = data.text #所有皮肤科的数据\n",
    "    return resule\n",
    " \n",
    "def jsonss(js):\n",
    "    data1 = js[\"data\"]\n",
    "    data11 = data1[9][\"scheduleInfos\"] #9号是xx医生的序号\n",
    "    for i in range(len(data11)): #data11[i]是每条单独的上午下午数据\n",
    "        if data11[i][\"regLeaveCount\"] != \"0\":\n",
    "            dingding(data11[i][\"regDate\"],data11[i][\"weekName\"],data11[i][\"regLeaveCount\"])\n",
    "        else:\n",
    "            pass\n",
    " \n",
    "def dingding(data,week,count):\n",
    "    url = \"https://oapi.dingtalk.com/robot/send?access_token=hdfkhaskdfhadhsfkhaslkdfhlkajshdfklahsdkjfhalsdfhalksdhjfkjahadfasdfasdfa\"\n",
    "    # 构建请求头部\n",
    "    header = {\n",
    "        \"Content-Type\": \"application/json\",\n",
    "        \"Charset\": \"UTF-8\"\n",
    "    }\n",
    "    # 构建请求数据\n",
    "    tex = \"xx医生 时间：%s %s 剩余可挂号数量：%s\" % (data,week,count)\n",
    "    message = {\n",
    "        \"msgtype\": \"text\",\n",
    "        \"text\": {\n",
    "            \"content\": tex\n",
    "        },\n",
    "        \"at\": {\n",
    "            \"isAtAll\": False\n",
    "        }\n",
    "    }\n",
    "    # 对请求的数据进行json封装\n",
    "    message_json = json.dumps(message)\n",
    "    # 发送请求\n",
    "    info = requests.post(url=url, data=message_json, headers=header)\n",
    "    # 打印返回的结果\n",
    "    while info.ok != True:\n",
    "        info = requests.post(url=url, data=message_json, headers=header)"
   ],
   "outputs": [],
   "metadata": {}
  },
  {
   "cell_type": "code",
   "execution_count": null,
   "source": [
    "    a = 0\n",
    "    while True:\n",
    "        js = select_data()\n",
    "        try:\n",
    "            js = ast.literal_eval(js)\n",
    "            data = jsonss(js)\n",
    "            a+=1\n",
    "            if a == 60:\n",
    "                data=\"\"\n",
    "                week=\"\"\n",
    "                count=\"0 挂号机器人正常运行中\"\n",
    "                dingding(data,week,count)\n",
    "                a = 0\n",
    "            time.sleep(60)\n",
    "        except:\n",
    "            data = \"\"\n",
    "            week = \"\"\n",
    "            count = \"0 挂号机器人token失效\"\n",
    "            dingding(data,week,count)"
   ],
   "outputs": [],
   "metadata": {}
  }
 ],
 "metadata": {
  "orig_nbformat": 4,
  "language_info": {
   "name": "python",
   "version": "3.8.8"
  },
  "kernelspec": {
   "name": "python3",
   "display_name": "Python 3.8.8 64-bit ('base': conda)"
  },
  "interpreter": {
   "hash": "dca0ade3e726a953b501b15e8e990130d2b7799f14cfd9f4271676035ebe5511"
  }
 },
 "nbformat": 4,
 "nbformat_minor": 2
}